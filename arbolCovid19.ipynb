{
 "cells": [
  {
   "cell_type": "markdown",
   "metadata": {},
   "source": [
    "# Árbol de decisión COVID-19 (CASO POSITIVO)"
   ]
  },
  {
   "cell_type": "markdown",
   "metadata": {},
   "source": [
    "Utilizando reglas del tipo if se generan las directrices para proponer al usuario si tiene o no COVID-19 o bien puede proponérsele que sea otra enfermedad muy parecida en sintomas."
   ]
  },
  {
   "cell_type": "code",
   "execution_count": 3,
   "metadata": {},
   "outputs": [
    {
     "name": "stdout",
     "output_type": "stream",
     "text": [
      "Por favor escribe el número de oración corresponda a tu realidad:\n",
      "1. Estuve en contacto con algún confirmado de COVID-19\n",
      "2. No estoy seguro pero presento cierta sintomatología\n",
      "2\n",
      "1. Presento fiebre mayor a 37.5\n",
      "2. No presento fiebre\n",
      "1\n",
      "1. Tengo dolor de pecho\n",
      "2. Solo tengo dolor de garganta\n",
      "1\n",
      "1. Presento tos seca\n",
      "2. Presento tos productiva\n",
      "1\n",
      "1. Tengo dificultad para respirar\n",
      "2. No tengo dificultad para respirar\n",
      "1\n",
      "1. Puedo moverme y hablar\n",
      "2. Ya no puedo moverme o hablar\n",
      "2\n",
      "Resultado: Estás en extremo riesgo. Llama a emergencias. (COVID-19 POSITIVO)\n"
     ]
    }
   ],
   "source": [
    "print(\"Por favor escribe el número de oración corresponda a tu realidad:\")\n",
    "print(\"1. Estuve en contacto con algún confirmado de COVID-19\")\n",
    "print(\"2. No estoy seguro pero presento cierta sintomatología\")\n",
    "respuesta=input()\n",
    "if(respuesta==\"1\"):\n",
    "    print(\"1. Presento sintomatología grave y además soy persona de riesgo\")\n",
    "    print(\"2. Presento sintomatología nula o muy leve y además no soy persona de riesgo\")\n",
    "    respuesta=input()\n",
    "    if(respuesta==\"1\"):\n",
    "        print(\"Resultado: Estas en gran riesgo (COVID-19 POSITIVO)\")\n",
    "    else:\n",
    "        print(\"Resultado: No estás en gran riesgo, manten cuarentena total (COVID-19 NEGATIVO)\")\n",
    "else:\n",
    "    print(\"1. Presento fiebre mayor a 37.5\")\n",
    "    print(\"2. No presento fiebre\")\n",
    "    respuesta=input()\n",
    "    if(respuesta==\"1\"):\n",
    "        print(\"1. Tengo dolor de pecho\")\n",
    "        print(\"2. Solo tengo dolor de garganta\")\n",
    "        respuesta=input()\n",
    "        if(respuesta==\"1\"):\n",
    "            print(\"1. Presento tos seca\")\n",
    "            print(\"2. Presento tos productiva\")\n",
    "            respuesta=input()\n",
    "            if(respuesta==\"1\"):\n",
    "                print(\"1. Tengo dificultad para respirar\")\n",
    "                print(\"2. No tengo dificultad para respirar\")\n",
    "                respuesta=input()\n",
    "                if(respuesta==\"1\"):\n",
    "                    print(\"1. Puedo moverme y hablar\")\n",
    "                    print(\"2. Ya no puedo moverme o hablar\")\n",
    "                    respuesta=input()\n",
    "                    if(respuesta==\"1\"):\n",
    "                        print(\"Resultado: Estas en gran riesgo (COVID-19 POSITIVO)\")\n",
    "                    else:\n",
    "                        print(\"Resultado: Estás en extremo riesgo. Llama a emergencias. (COVID-19 POSITIVO)\")\n",
    "                else:\n",
    "                    print(\"Resultado: Podría sólo ser gripe común. (COVID-19 NEGATIVO)\")\n",
    "            else:\n",
    "                print(\"Resultado: Podría sólo ser resfriado común. (COVID-19 NEGATIVO)\")\n",
    "        else:\n",
    "            print(\"Resultado: Podría sólo ser resfriado común. (COVID-19 NEGATIVO)\")\n",
    "    else:\n",
    "        print(\"1. Tengo lo ojos irritados\")\n",
    "        print(\"2. No tengo lo ojos irritados\")\n",
    "        respuesta=input()\n",
    "        if(respuesta==\"1\"):\n",
    "            print(\"Resultado: Podría sólo ser alergia. (COVID-19 NEGATIVO)\")\n",
    "        else:\n",
    "            print(\"Resultado: Podría sólo ser resfriado común. (COVID-19 NEGATIVO)\")"
   ]
  },
  {
   "cell_type": "code",
   "execution_count": null,
   "metadata": {},
   "outputs": [],
   "source": []
  }
 ],
 "metadata": {
  "kernelspec": {
   "display_name": "Python 3",
   "language": "python",
   "name": "python3"
  },
  "language_info": {
   "codemirror_mode": {
    "name": "ipython",
    "version": 3
   },
   "file_extension": ".py",
   "mimetype": "text/x-python",
   "name": "python",
   "nbconvert_exporter": "python",
   "pygments_lexer": "ipython3",
   "version": "3.6.11"
  }
 },
 "nbformat": 4,
 "nbformat_minor": 4
}
